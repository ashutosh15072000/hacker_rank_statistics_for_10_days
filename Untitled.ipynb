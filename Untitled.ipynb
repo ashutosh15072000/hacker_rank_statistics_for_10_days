{
 "cells": [
  {
   "cell_type": "code",
   "execution_count": 10,
   "id": "15f65bee",
   "metadata": {},
   "outputs": [],
   "source": [
    "a=10\n",
    "b=[64630, 11735, 14216, 99233, 14470 ,4978, 73429, 38120, 51135, 67060]"
   ]
  },
  {
   "cell_type": "code",
   "execution_count": 17,
   "id": "98937c80",
   "metadata": {},
   "outputs": [],
   "source": [
    "import numpy as np\n",
    "import statistics as st"
   ]
  },
  {
   "cell_type": "code",
   "execution_count": 27,
   "id": "3531adad",
   "metadata": {},
   "outputs": [
    {
     "data": {
      "text/plain": [
       "43900.6"
      ]
     },
     "execution_count": 27,
     "metadata": {},
     "output_type": "execute_result"
    }
   ],
   "source": [
    "np.mean(b)"
   ]
  },
  {
   "cell_type": "code",
   "execution_count": 28,
   "id": "6b30f89a",
   "metadata": {},
   "outputs": [],
   "source": [
    "c=np.array(b)"
   ]
  },
  {
   "cell_type": "code",
   "execution_count": 29,
   "id": "70584993",
   "metadata": {},
   "outputs": [
    {
     "data": {
      "text/plain": [
       "44627.5"
      ]
     },
     "execution_count": 29,
     "metadata": {},
     "output_type": "execute_result"
    }
   ],
   "source": [
    "np.median(c)"
   ]
  },
  {
   "cell_type": "code",
   "execution_count": 38,
   "id": "9b54e301",
   "metadata": {},
   "outputs": [
    {
     "data": {
      "text/plain": [
       "array([ 4978, 11735, 14216, 14470, 38120, 51135, 64630, 67060, 73429,\n",
       "       99233])"
      ]
     },
     "execution_count": 38,
     "metadata": {},
     "output_type": "execute_result"
    }
   ],
   "source": [
    "c.sort()"
   ]
  },
  {
   "cell_type": "code",
   "execution_count": 40,
   "id": "3a6feb98",
   "metadata": {},
   "outputs": [
    {
     "data": {
      "text/plain": [
       "4978"
      ]
     },
     "execution_count": 40,
     "metadata": {},
     "output_type": "execute_result"
    }
   ],
   "source": [
    "st.mode(c)"
   ]
  },
  {
   "cell_type": "code",
   "execution_count": 41,
   "id": "ad40bdce",
   "metadata": {},
   "outputs": [
    {
     "name": "stdout",
     "output_type": "stream",
     "text": [
      "4\n",
      "1\n",
      "2\n",
      "3\n",
      "4\n"
     ]
    }
   ],
   "source": [
    "n=int(input())\n",
    "s=[ int(input())  for i in range(n)]"
   ]
  },
  {
   "cell_type": "code",
   "execution_count": 42,
   "id": "ab1b6364",
   "metadata": {},
   "outputs": [
    {
     "data": {
      "text/plain": [
       "[1, 2, 3, 4]"
      ]
     },
     "execution_count": 42,
     "metadata": {},
     "output_type": "execute_result"
    }
   ],
   "source": [
    "s"
   ]
  },
  {
   "cell_type": "code",
   "execution_count": 43,
   "id": "72f5cca2",
   "metadata": {},
   "outputs": [],
   "source": [
    "X = [10, 40, 30, 50, 20]\n",
    "W = [1, 2, 3, 4, 5]"
   ]
  },
  {
   "cell_type": "code",
   "execution_count": null,
   "id": "a4094e4d",
   "metadata": {},
   "outputs": [],
   "source": []
  },
  {
   "cell_type": "code",
   "execution_count": 48,
   "id": "8e9ff7bd",
   "metadata": {},
   "outputs": [
    {
     "data": {
      "text/plain": [
       "32.0"
      ]
     },
     "execution_count": 48,
     "metadata": {},
     "output_type": "execute_result"
    }
   ],
   "source": [
    "weightedMean(X,W)"
   ]
  },
  {
   "cell_type": "code",
   "execution_count": 49,
   "id": "4f8b0357",
   "metadata": {},
   "outputs": [],
   "source": [
    "def weightedMean(X, W):\n",
    "    # Write your code here\n",
    "    y=[]\n",
    "    for i in range(0,len(X)):\n",
    "        y.append(X[i]*W[i])\n",
    "    return round(sum(y)/sum(W),1) "
   ]
  },
  {
   "cell_type": "code",
   "execution_count": 52,
   "id": "da4f581e",
   "metadata": {},
   "outputs": [],
   "source": [
    "weightedMean(X,W)\n",
    "import math"
   ]
  },
  {
   "cell_type": "code",
   "execution_count": 67,
   "id": "92bafdc2",
   "metadata": {},
   "outputs": [
    {
     "data": {
      "text/plain": [
       "[400, 100, 0, 400, 100]"
      ]
     },
     "execution_count": 67,
     "metadata": {},
     "output_type": "execute_result"
    }
   ],
   "source": [
    "\n",
    "arr =[10, 40, 30, 50, 20]\n",
    "mean=round(sum(arr)/len(arr))\n",
    "l=[]\n",
    "for i in range(0,len(arr)):\n",
    "    l.append((arr[i]-mean)*(arr[i]-mean))\n",
    "l"
   ]
  },
  {
   "cell_type": "code",
   "execution_count": 68,
   "id": "c339800f",
   "metadata": {},
   "outputs": [
    {
     "data": {
      "text/plain": [
       "14.142135623730951"
      ]
     },
     "execution_count": 68,
     "metadata": {},
     "output_type": "execute_result"
    }
   ],
   "source": [
    "s=math.sqrt(sum(l)/len(arr))\n",
    "s"
   ]
  },
  {
   "cell_type": "code",
   "execution_count": 1,
   "id": "3137b8f8",
   "metadata": {},
   "outputs": [],
   "source": [
    "n = 9 \n",
    "arr = [3, 7, 8, 5, 12, 14, 21, 13,18]"
   ]
  },
  {
   "cell_type": "code",
   "execution_count": 11,
   "id": "5b66e136",
   "metadata": {},
   "outputs": [],
   "source": [
    "l=[]\n",
    "import numpy as np"
   ]
  },
  {
   "cell_type": "code",
   "execution_count": 12,
   "id": "e67fac29",
   "metadata": {},
   "outputs": [],
   "source": []
  },
  {
   "cell_type": "code",
   "execution_count": 15,
   "id": "b799b9ed",
   "metadata": {},
   "outputs": [
    {
     "name": "stdout",
     "output_type": "stream",
     "text": [
      "7.0\n",
      "12.0\n",
      "18.0\n"
     ]
    }
   ],
   "source": []
  },
  {
   "cell_type": "code",
   "execution_count": 16,
   "id": "a00dbcb5",
   "metadata": {},
   "outputs": [
    {
     "data": {
      "text/plain": [
       "12.0"
      ]
     },
     "execution_count": 16,
     "metadata": {},
     "output_type": "execute_result"
    }
   ],
   "source": []
  },
  {
   "cell_type": "code",
   "execution_count": 17,
   "id": "a1200b56",
   "metadata": {},
   "outputs": [
    {
     "data": {
      "text/plain": [
       "6.0"
      ]
     },
     "execution_count": 17,
     "metadata": {},
     "output_type": "execute_result"
    }
   ],
   "source": [
    "np.median([3, 7, 8, 5])"
   ]
  },
  {
   "cell_type": "code",
   "execution_count": 18,
   "id": "970ef9e5",
   "metadata": {},
   "outputs": [
    {
     "data": {
      "text/plain": [
       "4.0"
      ]
     },
     "execution_count": 18,
     "metadata": {},
     "output_type": "execute_result"
    }
   ],
   "source": [
    "a=[1,3,5,7]\n",
    "np.median(a)"
   ]
  },
  {
   "cell_type": "code",
   "execution_count": 25,
   "id": "fc128b3e",
   "metadata": {},
   "outputs": [
    {
     "name": "stdout",
     "output_type": "stream",
     "text": [
      "6\n",
      "12\n",
      "16\n"
     ]
    }
   ],
   "source": [
    "t=int(len(arr)/2)\n",
    "if len(arr)%2==0:\n",
    "    l=arr[:t]\n",
    "    u=arr[t:]\n",
    "else:\n",
    "    l=arr[:t]\n",
    "    u=arr[t+1:]\n",
    "print(int(st.median(l)))\n",
    "print(int(st.median(arr)))\n",
    "print(int(st.median(u)))"
   ]
  },
  {
   "cell_type": "code",
   "execution_count": 47,
   "id": "06055c56",
   "metadata": {},
   "outputs": [],
   "source": [
    "def quartiles(arr):\n",
    "    # Write your code here\n",
    "    l1=[]\n",
    "    arr=sorted(arr)\n",
    "    t=int(len(arr)/2)\n",
    "    if len(arr)%2==0:\n",
    "        l=arr[:t]\n",
    "        u=arr[t:]\n",
    "    else:\n",
    "        l=arr[:t]\n",
    "        u=arr[t+1:]\n",
    "    q1=(int(st.median(l)))\n",
    "    q2=(int(st.median(arr)))\n",
    "    q3=(int(st.median(u)))\n",
    "    l1.append(q1)\n",
    "    l1.append(q2)\n",
    "    l1.append(q3)\n",
    "    print(l1)"
   ]
  },
  {
   "cell_type": "code",
   "execution_count": 29,
   "id": "d576eacd",
   "metadata": {},
   "outputs": [
    {
     "ename": "TypeError",
     "evalue": "interQuartile() missing 1 required positional argument: 'freqs'",
     "output_type": "error",
     "traceback": [
      "\u001b[1;31m---------------------------------------------------------------------------\u001b[0m",
      "\u001b[1;31mTypeError\u001b[0m                                 Traceback (most recent call last)",
      "\u001b[1;32m<ipython-input-29-60c509af6f59>\u001b[0m in \u001b[0;36m<module>\u001b[1;34m\u001b[0m\n\u001b[0;32m      1\u001b[0m \u001b[0marr\u001b[0m \u001b[1;33m=\u001b[0m \u001b[1;33m[\u001b[0m\u001b[1;36m4\u001b[0m \u001b[1;33m,\u001b[0m\u001b[1;36m17\u001b[0m \u001b[1;33m,\u001b[0m\u001b[1;36m7\u001b[0m \u001b[1;33m,\u001b[0m\u001b[1;36m14\u001b[0m \u001b[1;33m,\u001b[0m\u001b[1;36m18\u001b[0m \u001b[1;33m,\u001b[0m\u001b[1;36m12\u001b[0m \u001b[1;33m,\u001b[0m\u001b[1;36m3\u001b[0m \u001b[1;33m,\u001b[0m\u001b[1;36m16\u001b[0m \u001b[1;33m,\u001b[0m\u001b[1;36m10\u001b[0m \u001b[1;33m,\u001b[0m\u001b[1;36m4\u001b[0m \u001b[1;33m,\u001b[0m\u001b[1;36m4\u001b[0m\u001b[1;33m,\u001b[0m\u001b[1;36m12\u001b[0m\u001b[1;33m]\u001b[0m\u001b[1;33m\u001b[0m\u001b[1;33m\u001b[0m\u001b[0m\n\u001b[0;32m      2\u001b[0m \u001b[1;33m\u001b[0m\u001b[0m\n\u001b[1;32m----> 3\u001b[1;33m \u001b[0minterQuartile\u001b[0m\u001b[1;33m(\u001b[0m\u001b[0marr\u001b[0m\u001b[1;33m)\u001b[0m\u001b[1;33m\u001b[0m\u001b[1;33m\u001b[0m\u001b[0m\n\u001b[0m",
      "\u001b[1;31mTypeError\u001b[0m: interQuartile() missing 1 required positional argument: 'freqs'"
     ]
    }
   ],
   "source": [
    "arr = [4 ,17 ,7 ,14 ,18 ,12 ,3 ,16 ,10 ,4 ,4,12]\n",
    "\n",
    "interQuartile(arr)"
   ]
  },
  {
   "cell_type": "code",
   "execution_count": 38,
   "id": "f95d492b",
   "metadata": {},
   "outputs": [],
   "source": [
    "l=[]\n",
    "l.append(4)"
   ]
  },
  {
   "cell_type": "code",
   "execution_count": 39,
   "id": "6c9b5543",
   "metadata": {},
   "outputs": [
    {
     "data": {
      "text/plain": [
       "[4]"
      ]
     },
     "execution_count": 39,
     "metadata": {},
     "output_type": "execute_result"
    }
   ],
   "source": [
    "l"
   ]
  },
  {
   "cell_type": "code",
   "execution_count": 75,
   "id": "56f2c4b2",
   "metadata": {},
   "outputs": [],
   "source": [
    "def interQuartile(values, freqs):\n",
    "    s=[]\n",
    "    for i in range(n):\n",
    "        s=s+[values[i]]*freqs[i]\n",
    "    s=sorted(s)\n",
    "    t=int(len(s)/2)    \n",
    "    if len(s)%2==0:\n",
    "        l=s[:t]\n",
    "        u=s[t:]\n",
    "    else:\n",
    "        l=s[:t]\n",
    "        u=s[t+1:]     \n",
    "    iqr=float(st.median(u))-float(st.median(l))      \n",
    "    print(round((iqr),1))\n",
    "    \n",
    "    "
   ]
  },
  {
   "cell_type": "code",
   "execution_count": 76,
   "id": "5dc659ed",
   "metadata": {},
   "outputs": [
    {
     "name": "stdout",
     "output_type": "stream",
     "text": [
      "30.0\n"
     ]
    }
   ],
   "source": [
    "n=5\n",
    "values = [10 ,40 ,30 ,50 ,20]\n",
    "freqs = [1 ,2, 3, 4 ,5]\n",
    "interQuartile(values, freqs)"
   ]
  },
  {
   "cell_type": "code",
   "execution_count": null,
   "id": "75f919ad",
   "metadata": {},
   "outputs": [],
   "source": [
    "\n"
   ]
  },
  {
   "cell_type": "code",
   "execution_count": null,
   "id": "08c1a7b2",
   "metadata": {},
   "outputs": [],
   "source": [
    "  \n",
    "  \n",
    "        \n",
    "\n",
    "        \n",
    "        "
   ]
  },
  {
   "cell_type": "code",
   "execution_count": 73,
   "id": "8ff75018",
   "metadata": {},
   "outputs": [
    {
     "data": {
      "text/plain": [
       "2"
      ]
     },
     "execution_count": 73,
     "metadata": {},
     "output_type": "execute_result"
    }
   ],
   "source": []
  },
  {
   "cell_type": "code",
   "execution_count": null,
   "id": "145e6d61",
   "metadata": {},
   "outputs": [],
   "source": []
  }
 ],
 "metadata": {
  "kernelspec": {
   "display_name": "Python 3",
   "language": "python",
   "name": "python3"
  },
  "language_info": {
   "codemirror_mode": {
    "name": "ipython",
    "version": 3
   },
   "file_extension": ".py",
   "mimetype": "text/x-python",
   "name": "python",
   "nbconvert_exporter": "python",
   "pygments_lexer": "ipython3",
   "version": "3.8.8"
  }
 },
 "nbformat": 4,
 "nbformat_minor": 5
}
